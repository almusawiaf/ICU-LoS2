{
 "cells": [
  {
   "cell_type": "code",
   "execution_count": 1,
   "metadata": {},
   "outputs": [],
   "source": [
    "import os\n",
    "\n",
    "def save_last_lines(folder_path, output_file):\n",
    "    with open(output_file, 'w') as outfile:\n",
    "        for filename in os.listdir(folder_path):\n",
    "            file_path = os.path.join(folder_path, filename)\n",
    "            if os.path.isfile(file_path):\n",
    "                try:\n",
    "                    with open(file_path, 'r') as infile:\n",
    "                        lines = infile.readlines()\n",
    "                        if lines:\n",
    "                            last_line = lines[-1].strip()\n",
    "                            outfile.write(last_line + '\\n')\n",
    "                except Exception as e:\n",
    "                    print(f\"Error reading {file_path}: {e}\")\n",
    "\n",
    "folder_path = '/lustre/home/almusawiaf/PhD_Projects/ICU_LoS/machine_learning/BoW/3_classes/logs/normalized/log_sci_sm_2000_F/_3_5_days/outputs'\n",
    "output_file = f'{folder_path}/last_lines.txt'\n",
    "\n",
    "save_last_lines(folder_path, output_file)"
   ]
  }
 ],
 "metadata": {
  "kernelspec": {
   "display_name": "envGNN3",
   "language": "python",
   "name": "python3"
  },
  "language_info": {
   "codemirror_mode": {
    "name": "ipython",
    "version": 3
   },
   "file_extension": ".py",
   "mimetype": "text/x-python",
   "name": "python",
   "nbconvert_exporter": "python",
   "pygments_lexer": "ipython3",
   "version": "3.9.18"
  }
 },
 "nbformat": 4,
 "nbformat_minor": 2
}
