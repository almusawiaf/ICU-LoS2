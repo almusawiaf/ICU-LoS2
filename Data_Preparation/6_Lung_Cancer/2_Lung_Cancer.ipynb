{
 "cells": [
  {
   "cell_type": "markdown",
   "metadata": {},
   "source": [
    "## Extracting Lung Cancer data"
   ]
  },
  {
   "cell_type": "code",
   "execution_count": 1,
   "metadata": {},
   "outputs": [],
   "source": [
    "import pandas as pd\n",
    "import os\n",
    "import pickle\n",
    "\n",
    "def load_pickle(thePath):\n",
    "    with open(thePath, 'rb') as f:\n",
    "        data = pickle.load(f)\n",
    "    return data\n",
    "\n",
    "def save_list_as_pickle(L, given_path, file_name):\n",
    "    os.makedirs(given_path, exist_ok=True)\n",
    "    \n",
    "    print(f'Saving to {given_path}/{file_name}.pkl')\n",
    "    with open(f'{given_path}/{file_name}.pkl', 'wb') as file:\n",
    "        pickle.dump(L, file)"
   ]
  },
  {
   "cell_type": "code",
   "execution_count": 2,
   "metadata": {},
   "outputs": [
    {
     "name": "stdout",
     "output_type": "stream",
     "text": [
      "Saving to ../Data/structured/Lung_Cancer/X_P.pkl\n",
      "Saving to ../Data/structured/Lung_Cancer/X_M.pkl\n",
      "Saving to ../Data/structured/Lung_Cancer/X_L.pkl\n",
      "Saving to ../Data/structured/Lung_Cancer/X_B.pkl\n",
      "Saving to ../Data/structured/Lung_Cancer/X_S.pkl\n",
      "Saving to ../Data/structured/Lung_Cancer/VIY.pkl\n"
     ]
    }
   ],
   "source": [
    "the_path = '../Data/structured/ALL2'\n",
    "X_B  = load_pickle(f'{the_path}/X_B.pkl')\n",
    "X_D  = load_pickle(f'{the_path}/X_D.pkl')\n",
    "X_L  = load_pickle(f'{the_path}/X_L.pkl')\n",
    "X_M  = load_pickle(f'{the_path}/X_M.pkl')\n",
    "X_P  = load_pickle(f'{the_path}/X_P.pkl')\n",
    "X_S  = load_pickle(f'{the_path}/X_S.pkl')\n",
    "VIY = load_pickle(f'{the_path}/VIY.pkl')\n",
    "\n",
    "D  = load_pickle(f'{the_path}/D.pkl') # list of ICD 9 of diagnoses, 3 digits only.\n",
    "\n",
    "DI = [i==1 for i in X_D[:, D.index('162')]]\n",
    "\n",
    "saving_path = '../Data/structured/Lung_Cancer'\n",
    "save_list_as_pickle(X_P[DI], f'{saving_path}', 'X_P')\n",
    "save_list_as_pickle(X_M[DI], f'{saving_path}', 'X_M')\n",
    "save_list_as_pickle(X_L[DI], f'{saving_path}', 'X_L')\n",
    "save_list_as_pickle(X_B[DI], f'{saving_path}', 'X_B')\n",
    "save_list_as_pickle(X_S[DI], f'{saving_path}', 'X_S')\n",
    "\n",
    "save_list_as_pickle(VIY[DI], f'{saving_path}', 'VIY')\n"
   ]
  }
 ],
 "metadata": {
  "kernelspec": {
   "display_name": "envGNN3",
   "language": "python",
   "name": "python3"
  },
  "language_info": {
   "codemirror_mode": {
    "name": "ipython",
    "version": 3
   },
   "file_extension": ".py",
   "mimetype": "text/x-python",
   "name": "python",
   "nbconvert_exporter": "python",
   "pygments_lexer": "ipython3",
   "version": "3.11.11"
  }
 },
 "nbformat": 4,
 "nbformat_minor": 2
}
