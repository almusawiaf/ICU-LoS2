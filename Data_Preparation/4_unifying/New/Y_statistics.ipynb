{
 "cells": [
  {
   "cell_type": "markdown",
   "metadata": {},
   "source": [
    "## Combining and preparing final data\n",
    "\n",
    "- The goal here is to combine the data so that we end with the following information:\n",
    "    - **Z**: base features\n",
    "    - **ZS**: base features + MeSH-based symptoms\n",
    "    - **T0**: original text\n",
    "    - **T1**: t5-small\n",
    "    - **T2**: bart large cnn\n",
    "    - **T3**: medical summarization\n",
    "\n",
    "    - **ZST0**: base + MeSH + original text\n",
    "    - **ZST1**: base + MeSH + t5-small\n",
    "    - **ZST2**: base + MeSH + bart large cnn\n",
    "    - **ZST3**: base + MeSH + medical summarization\n",
    "\n",
    "    \n"
   ]
  },
  {
   "cell_type": "code",
   "execution_count": 9,
   "metadata": {},
   "outputs": [
    {
     "name": "stdout",
     "output_type": "stream",
     "text": [
      "Reading the data ...\n",
      "Saving ...\n",
      "\tSaving to ../../Data/XY/Z.pkl\n",
      "\tSaving to ../../Data/XY/ZS.pkl\n",
      "\tSaving to ../../Data/XY/T0.pkl\n",
      "\tSaving to ../../Data/XY/T1.pkl\n",
      "\tSaving to ../../Data/XY/T2.pkl\n",
      "\tSaving to ../../Data/XY/T3.pkl\n",
      "\tSaving to ../../Data/XY/ZST0.pkl\n",
      "\tSaving to ../../Data/XY/ZST1.pkl\n",
      "\tSaving to ../../Data/XY/ZST2.pkl\n",
      "\tSaving to ../../Data/XY/ZST3.pkl\n",
      "(42142, 2676)\n"
     ]
    }
   ],
   "source": [
    "import numpy as np\n",
    "import pickle\n",
    "from common import *\n",
    "\n",
    "# FUNCTIONS\n",
    "def save_list_as_pickle(L, given_path, file_name):\n",
    "    # Ensure the directory exists\n",
    "    if not os.path.exists(given_path):\n",
    "        os.makedirs(given_path)\n",
    "        print(f'\\tDirectory created: {given_path}')\n",
    "    \n",
    "    # Save the list as a pickle file\n",
    "    print(f'\\tSaving to {given_path}/{file_name}.pkl')\n",
    "    with open(os.path.join(given_path, f'{file_name}.pkl'), 'wb') as file:\n",
    "        pickle.dump(L, file)\n",
    "\n",
    "def classify_los_3_classes(los_list):\n",
    "    return [0 if los < 3 else 1 if 3 <= los <= 7 else 2 for los in los_list]\n",
    "\n",
    "print('Reading the data ...')\n",
    "XB = load_dict_from_pickle('../../Data/XY/XB.pkl')\n",
    "XD = load_dict_from_pickle('../../Data/XY/XD.pkl')\n",
    "XL = load_dict_from_pickle('../../Data/XY/XL.pkl')\n",
    "XM = load_dict_from_pickle('../../Data/XY/XM.pkl')\n",
    "XP = load_dict_from_pickle('../../Data/XY/XP.pkl')\n",
    "XS = load_dict_from_pickle('../../Data/XY/XS.pkl')\n",
    "\n",
    "T0 = load_dict_from_pickle('../../Data/XY/EMB_TEXT.pkl')\n",
    "T1 = load_dict_from_pickle('../../Data/XY/EMB_1_t5_small2_SUMMARY.pkl')\n",
    "T2 = load_dict_from_pickle('../../Data/XY/EMB_3_bart_large_cnn_SUMMARY.pkl')\n",
    "T3 = load_dict_from_pickle('../../Data/XY/EMB_4_medical_summarization_SUMMARY.pkl')\n",
    "\n",
    "Z = np.concatenate((XB, XD, XL, XM, XP), axis=1)\n",
    "ZS = np.concatenate((Z, XS), axis=1)\n",
    "ZST0 = np.concatenate((ZS, T0), axis=1)\n",
    "ZST1 = np.concatenate((ZS, T1), axis=1)\n",
    "ZST2 = np.concatenate((ZS, T2), axis=1)\n",
    "ZST3 = np.concatenate((ZS, T3), axis=1)\n",
    "\n",
    "print('Saving ...')\n",
    "\n",
    "save_list_as_pickle(Z, '../../Data/XY', 'Z')\n",
    "save_list_as_pickle(ZS, '../../Data/XY', 'ZS')\n",
    "save_list_as_pickle(T0, '../../Data/XY', 'T0')\n",
    "save_list_as_pickle(T1, '../../Data/XY', 'T1')\n",
    "save_list_as_pickle(T2, '../../Data/XY', 'T2')\n",
    "save_list_as_pickle(T3, '../../Data/XY', 'T3')\n",
    "save_list_as_pickle(ZST0, '../../Data/XY', 'ZST0')\n",
    "save_list_as_pickle(ZST1, '../../Data/XY', 'ZST1')\n",
    "save_list_as_pickle(ZST2, '../../Data/XY', 'ZST2')\n",
    "save_list_as_pickle(ZST3, '../../Data/XY', 'ZST3')\n",
    "\n",
    "print(ZST3.shape)\n",
    "\n",
    "\n",
    "Y = load_dict_from_pickle('../../Data/XY/LoS.pkl')\n",
    "newY = classify_los_3_classes(Y)\n",
    "save_list_as_pickle(newY, '../../Data/XY', 'Y')"
   ]
  }
 ],
 "metadata": {
  "kernelspec": {
   "display_name": "envGNN2",
   "language": "python",
   "name": "python3"
  },
  "language_info": {
   "codemirror_mode": {
    "name": "ipython",
    "version": 3
   },
   "file_extension": ".py",
   "mimetype": "text/x-python",
   "name": "python",
   "nbconvert_exporter": "python",
   "pygments_lexer": "ipython3",
   "version": "3.11.11"
  }
 },
 "nbformat": 4,
 "nbformat_minor": 2
}
