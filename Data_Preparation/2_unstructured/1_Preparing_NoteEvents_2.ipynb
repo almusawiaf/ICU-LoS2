{
 "cells": [
  {
   "cell_type": "code",
   "execution_count": 1,
   "metadata": {},
   "outputs": [],
   "source": [
    "import os\n",
    "import pickle\n",
    "import pandas as pd\n",
    "import numpy as np\n",
    "import ast\n",
    "\n",
    "from TheMIMIC import *\n",
    "\n",
    "def save_list_as_pickle(L, given_path, file_name):\n",
    "    # Ensure the directory exists\n",
    "    if not os.path.exists(given_path):\n",
    "        os.makedirs(given_path)\n",
    "        print(f'\\tDirectory created: {given_path}')\n",
    "    \n",
    "    # Save the list as a pickle file\n",
    "    print(f'\\tSaving to {given_path}/{file_name}.pkl')\n",
    "    with open(os.path.join(given_path, f'{file_name}.pkl'), 'wb') as file:\n",
    "        pickle.dump(L, file)\n",
    "        \n",
    "def load_pickle(thePath):\n",
    "    with open(thePath, 'rb') as f:\n",
    "        data = pickle.load(f)\n",
    "    return data\n",
    "\n",
    "pd.set_option('display.max_colwidth', None)"
   ]
  },
  {
   "cell_type": "code",
   "execution_count": 23,
   "metadata": {},
   "outputs": [
    {
     "name": "stdout",
     "output_type": "stream",
     "text": [
      "Reading ICUSTAYS.csv file.\n",
      "|---- Reading complete.\n",
      "Patients  = 37443\n",
      "visits    = 46447\n",
      "ICU stays = 49214\n",
      "Reading NOTEEVENTS.csv file.\n"
     ]
    },
    {
     "name": "stderr",
     "output_type": "stream",
     "text": [
      "/lustre/home/almusawiaf/PhD_Projects/LoS_ReAdmission/LoS_ReAdmission_Mortality/LoS_ICU/data_generation/unstructured/TheMIMIC.py:24: DtypeWarning: Columns (4,5) have mixed types. Specify dtype option on import or set low_memory=False.\n",
      "  temp_DF = pd.read_csv(f'{self.MIMIC_Path}/{table_name}.csv')\n"
     ]
    },
    {
     "name": "stdout",
     "output_type": "stream",
     "text": [
      "|---- Reading complete.\n",
      "CATEGORY\n",
      "Nursing/other        822497\n",
      "Radiology            522279\n",
      "Nursing              223556\n",
      "ECG                  209051\n",
      "Physician            141624\n",
      "Discharge summary     59652\n",
      "Echo                  45794\n",
      "Respiratory           31739\n",
      "Nutrition              9418\n",
      "General                8301\n",
      "Rehab Services         5431\n",
      "Social Work            2670\n",
      "Case Management         967\n",
      "Pharmacy                103\n",
      "Consult                  98\n",
      "Name: count, dtype: int64\n"
     ]
    }
   ],
   "source": [
    "# Reading part :-(\n",
    "    \n",
    "VIY = load_pickle('../../Data/structured/VIY.pkl')\n",
    "the_visits = [i for i in VIY[:,0]]\n",
    "VIY.shape\n",
    "\n",
    "MIMIC = TheMIMIC()\n",
    "NoteEvents = MIMIC.read_NOTEEVENTS()\n",
    "\n",
    "NoteEvents['CATEGORY'] = NoteEvents['CATEGORY'].str.strip()\n",
    "\n",
    "category_distribution = NoteEvents['CATEGORY'].value_counts()\n",
    "print(category_distribution)"
   ]
  },
  {
   "cell_type": "code",
   "execution_count": 24,
   "metadata": {},
   "outputs": [
    {
     "name": "stdout",
     "output_type": "stream",
     "text": [
      "CATEGORY\n",
      "Nursing/other    743959\n",
      "Radiology        304685\n",
      "Nursing          183054\n",
      "Physician        115258\n",
      "Name: count, dtype: int64\n"
     ]
    }
   ],
   "source": [
    "NoteEvents = NoteEvents.dropna(subset=['HADM_ID'])\n",
    "NoteEvents = NoteEvents[NoteEvents[\"HADM_ID\"].isin(the_visits)]\n",
    "\n",
    "categories_to_keep = [\"Nursing/other\", \"Nursing\", \"Physician\", \"Radiology\"]\n",
    "NoteEvents2 = NoteEvents[NoteEvents['CATEGORY'].isin(categories_to_keep)].reset_index(drop=True)\n",
    "\n",
    "NoteEvents2['CHARTDATE'] = pd.to_datetime(NoteEvents2['CHARTDATE'], format='%Y-%m-%d')\n",
    "NoteEvents2['CHARTTIME'] = pd.to_datetime(NoteEvents2['CHARTTIME'], format='%Y-%m-%d %H:%M:%S')\n",
    "NoteEvents2.sort_values(by='CHARTTIME', ascending=True, inplace=True)\n",
    "\n",
    "new_NoteEvents = NoteEvents2.reset_index(drop=True)\n",
    "\n",
    "category_distribution = new_NoteEvents['CATEGORY'].value_counts()\n",
    "print(category_distribution)"
   ]
  },
  {
   "cell_type": "code",
   "execution_count": 27,
   "metadata": {},
   "outputs": [
    {
     "data": {
      "text/html": [
       "<div>\n",
       "<style scoped>\n",
       "    .dataframe tbody tr th:only-of-type {\n",
       "        vertical-align: middle;\n",
       "    }\n",
       "\n",
       "    .dataframe tbody tr th {\n",
       "        vertical-align: top;\n",
       "    }\n",
       "\n",
       "    .dataframe thead th {\n",
       "        text-align: right;\n",
       "    }\n",
       "</style>\n",
       "<table border=\"1\" class=\"dataframe\">\n",
       "  <thead>\n",
       "    <tr style=\"text-align: right;\">\n",
       "      <th></th>\n",
       "      <th>ROW_ID</th>\n",
       "      <th>SUBJECT_ID</th>\n",
       "      <th>HADM_ID</th>\n",
       "      <th>CHARTDATE</th>\n",
       "      <th>CHARTTIME</th>\n",
       "      <th>STORETIME</th>\n",
       "      <th>CATEGORY</th>\n",
       "      <th>DESCRIPTION</th>\n",
       "      <th>CGID</th>\n",
       "      <th>ISERROR</th>\n",
       "      <th>TEXT</th>\n",
       "    </tr>\n",
       "  </thead>\n",
       "  <tbody>\n",
       "    <tr>\n",
       "      <th>0</th>\n",
       "      <td>971016</td>\n",
       "      <td>29156</td>\n",
       "      <td>161773.0</td>\n",
       "      <td>2100-06-08</td>\n",
       "      <td>2100-06-08 23:58:00</td>\n",
       "      <td>NaN</td>\n",
       "      <td>Radiology</td>\n",
       "      <td>CHEST (PORTABLE AP)</td>\n",
       "      <td>NaN</td>\n",
       "      <td>NaN</td>\n",
       "      <td>[**2100-6-8**] 11:58\\n CHEST (PORTABLE AP)                                             Clip # [**Clip Number (Radiology) 76719**]\\n Reason: INTUBATION\\n ______________________________________________________________________________\\n                                 FINAL REPORT\\n STUDY:  Portable AP chest x-ray.\\n\\n INDICATION:  72-year-old female status post intubation.\\n\\n COMPARISONS:  None.\\n\\n FINDINGS:  An endotracheal tube terminates approximately 5 cm superior to the\\n carina.  A nasogastric tube can be seen with tip beyond the field of view of\\n the film.  The side port is also beyond the view of the film.  The heart is\\n normal in size.  The mediastinal and hilar contours are unremarkable.  The\\n aorta is mildly ectatic.  There is flattening of the diaphragm consistent with\\n mild hyperinflation.  Diffuse reticular opacities are present consistent with\\n underlying emphysematous change.  The soft tissues and osseous structures are\\n otherwise unremarkable.  No pleural effusion is seen. Biapical disease with\\n retraction of the hila and reticular opacities within the lungs.  There is\\n evidence of prior granulomatous disease.\\n\\n IMPRESSION:  Status post intubation and nasogastric tube placement, both in\\n appropriate position.  Hyperinflation and reticulonodular opacities consistent\\n with underlying emphysema and old granulomatous disease.  Clinical correlation\\n is recommended. No acute cardiopulmonary disease present.\\n\\n\\n</td>\n",
       "    </tr>\n",
       "  </tbody>\n",
       "</table>\n",
       "</div>"
      ],
      "text/plain": [
       "   ROW_ID  SUBJECT_ID   HADM_ID  CHARTDATE           CHARTTIME STORETIME  \\\n",
       "0  971016       29156  161773.0 2100-06-08 2100-06-08 23:58:00       NaN   \n",
       "\n",
       "    CATEGORY          DESCRIPTION  CGID  ISERROR  \\\n",
       "0  Radiology  CHEST (PORTABLE AP)   NaN      NaN   \n",
       "\n",
       "                                                                                                                                                                                                                                                                                                                                                                                                                                                                                                                                                                                                                                                                                                                                                                                                                                                                                                                                                                                                                                                                                                                                                                                                                                                                                                                                                                                                                                                                                                                   TEXT  \n",
       "0  [**2100-6-8**] 11:58\\n CHEST (PORTABLE AP)                                             Clip # [**Clip Number (Radiology) 76719**]\\n Reason: INTUBATION\\n ______________________________________________________________________________\\n                                 FINAL REPORT\\n STUDY:  Portable AP chest x-ray.\\n\\n INDICATION:  72-year-old female status post intubation.\\n\\n COMPARISONS:  None.\\n\\n FINDINGS:  An endotracheal tube terminates approximately 5 cm superior to the\\n carina.  A nasogastric tube can be seen with tip beyond the field of view of\\n the film.  The side port is also beyond the view of the film.  The heart is\\n normal in size.  The mediastinal and hilar contours are unremarkable.  The\\n aorta is mildly ectatic.  There is flattening of the diaphragm consistent with\\n mild hyperinflation.  Diffuse reticular opacities are present consistent with\\n underlying emphysematous change.  The soft tissues and osseous structures are\\n otherwise unremarkable.  No pleural effusion is seen. Biapical disease with\\n retraction of the hila and reticular opacities within the lungs.  There is\\n evidence of prior granulomatous disease.\\n\\n IMPRESSION:  Status post intubation and nasogastric tube placement, both in\\n appropriate position.  Hyperinflation and reticulonodular opacities consistent\\n with underlying emphysema and old granulomatous disease.  Clinical correlation\\n is recommended. No acute cardiopulmonary disease present.\\n\\n\\n  "
      ]
     },
     "execution_count": 27,
     "metadata": {},
     "output_type": "execute_result"
    }
   ],
   "source": [
    "new_NoteEvents.head(1)"
   ]
  },
  {
   "cell_type": "code",
   "execution_count": 25,
   "metadata": {},
   "outputs": [],
   "source": [
    "needed_cols = ['SUBJECT_ID', 'HADM_ID', 'CHARTDATE', 'CHARTTIME', 'DESCRIPTION', 'TEXT']\n",
    "\n",
    "NoteEvents_NursingOther = new_NoteEvents[new_NoteEvents['CATEGORY']==\"Nursing/other\"][needed_cols]\n",
    "NoteEvents_Nursing      = new_NoteEvents[new_NoteEvents['CATEGORY']==\"Nursing\"][needed_cols]\n",
    "NoteEvents_Physician    = new_NoteEvents[new_NoteEvents['CATEGORY']==\"Physician\"][needed_cols]\n",
    "NoteEvents_Radiology    = new_NoteEvents[new_NoteEvents['CATEGORY']==\"Radiology\"][needed_cols]\n"
   ]
  },
  {
   "cell_type": "code",
   "execution_count": 26,
   "metadata": {},
   "outputs": [
    {
     "data": {
      "text/html": [
       "<div>\n",
       "<style scoped>\n",
       "    .dataframe tbody tr th:only-of-type {\n",
       "        vertical-align: middle;\n",
       "    }\n",
       "\n",
       "    .dataframe tbody tr th {\n",
       "        vertical-align: top;\n",
       "    }\n",
       "\n",
       "    .dataframe thead th {\n",
       "        text-align: right;\n",
       "    }\n",
       "</style>\n",
       "<table border=\"1\" class=\"dataframe\">\n",
       "  <thead>\n",
       "    <tr style=\"text-align: right;\">\n",
       "      <th></th>\n",
       "      <th>SUBJECT_ID</th>\n",
       "      <th>HADM_ID</th>\n",
       "      <th>CHARTDATE</th>\n",
       "      <th>CHARTTIME</th>\n",
       "      <th>DESCRIPTION</th>\n",
       "      <th>TEXT</th>\n",
       "    </tr>\n",
       "  </thead>\n",
       "  <tbody>\n",
       "    <tr>\n",
       "      <th>110</th>\n",
       "      <td>31585</td>\n",
       "      <td>125380.0</td>\n",
       "      <td>2100-07-03</td>\n",
       "      <td>2100-07-03 03:54:00</td>\n",
       "      <td>Nursing Progress Note</td>\n",
       "      <td>88M with h/o DM2, HTN, hyperlipidemia, CHF, s/p CVA, fungal bladder\\n   mass and recurrent UTIs presents from nursing home 3x vomiting this AM,\\n   now with fever, altered mental status, tremors. Of note was admitted to\\n   this hospital for PNA 2 weeks ago, discharged with poor swallowing eval\\n   in nursing home; study on Monday with mild aspiration, has been\\n   receiving thick liuqids. In ED febrile to 100.9. Received CTX and\\n   azithromycin. Was noted to have a slight troponin elevation and new TW\\n   changes in lateral leads, was given ASA.  BP initially 80-90s, improved\\n   with 3L IV NS.  Was admitted in [**4-/2100**] for polymicrobial UTI, found to\\n   have bladder diverticula with fungal mass in bladder, followed by\\n   urology. Completed tx with abx including short course of diflucan at\\n   that point. Has chronic indwelling foley at NH, foley replaced in ED\\n   with some difficulty, + hematuria.  UA positive for UTI.\\n   In ED Foley was changed to cuade and pt put out 250cc of urine.lacte\\n   down from 3.5 to 1.5\\n   Neuro status: pt s/p CVA and r side paralysed, has slurred speech and\\n   hard to understand, but seems oriented in place/in self.\\n   Pt with poor swallowing eval, gave meds crushed with applesauce\\n   tolerates good, needs speech and swallow eval on Monday.\\n   .\\n   Pneumonia, aspiration\\n   Assessment:\\n   CXray shown  left  side opacity ?pna,  no c/o of SOB, no high fever\\n   Action:\\n   Blood cx sent,  start on Vanco/fluconozol/ceftriaxone\\n   Response:\\n   Asymptomatic at this time\\n   Plan:\\n   Cont monitoring temp, follow blood cx, please send urine cx\\n   Urinary tract infection (UTI)\\n   Assessment:\\n   Pt passing dark/brown, cloudy  urine, u/o dropped to 10cc\\n   Action:\\n   Flushed foley\\n   Response:\\n   Minimal response after flushed, given fluid bolus. Cont dufflican\\n   Plan:\\n   Cont monitoring u/o. possible needs more foley flushed in setting of\\n   fungal mass in bladder, needs urine cx.\\n   K 3.4 start repletion with 40meq iv and mag 1.3 repleted with 2gr\\n   Bladder scan done shown 224 cc, given fluid bolus.\\n</td>\n",
       "    </tr>\n",
       "  </tbody>\n",
       "</table>\n",
       "</div>"
      ],
      "text/plain": [
       "     SUBJECT_ID   HADM_ID  CHARTDATE           CHARTTIME  \\\n",
       "110       31585  125380.0 2100-07-03 2100-07-03 03:54:00   \n",
       "\n",
       "               DESCRIPTION  \\\n",
       "110  Nursing Progress Note   \n",
       "\n",
       "                                                                                                                                                                                                                                                                                                                                                                                                                                                                                                                                                                                                                                                                                                                                                                                                                                                                                                                                                                                                                                                                                                                                                                                                                                                                                                                                                                                                                                                                                                                                                                                                                                                                                                                                                                                                                                                                                                                                                                                                                                                                                                                                                                              TEXT  \n",
       "110  88M with h/o DM2, HTN, hyperlipidemia, CHF, s/p CVA, fungal bladder\\n   mass and recurrent UTIs presents from nursing home 3x vomiting this AM,\\n   now with fever, altered mental status, tremors. Of note was admitted to\\n   this hospital for PNA 2 weeks ago, discharged with poor swallowing eval\\n   in nursing home; study on Monday with mild aspiration, has been\\n   receiving thick liuqids. In ED febrile to 100.9. Received CTX and\\n   azithromycin. Was noted to have a slight troponin elevation and new TW\\n   changes in lateral leads, was given ASA.  BP initially 80-90s, improved\\n   with 3L IV NS.  Was admitted in [**4-/2100**] for polymicrobial UTI, found to\\n   have bladder diverticula with fungal mass in bladder, followed by\\n   urology. Completed tx with abx including short course of diflucan at\\n   that point. Has chronic indwelling foley at NH, foley replaced in ED\\n   with some difficulty, + hematuria.  UA positive for UTI.\\n   In ED Foley was changed to cuade and pt put out 250cc of urine.lacte\\n   down from 3.5 to 1.5\\n   Neuro status: pt s/p CVA and r side paralysed, has slurred speech and\\n   hard to understand, but seems oriented in place/in self.\\n   Pt with poor swallowing eval, gave meds crushed with applesauce\\n   tolerates good, needs speech and swallow eval on Monday.\\n   .\\n   Pneumonia, aspiration\\n   Assessment:\\n   CXray shown  left  side opacity ?pna,  no c/o of SOB, no high fever\\n   Action:\\n   Blood cx sent,  start on Vanco/fluconozol/ceftriaxone\\n   Response:\\n   Asymptomatic at this time\\n   Plan:\\n   Cont monitoring temp, follow blood cx, please send urine cx\\n   Urinary tract infection (UTI)\\n   Assessment:\\n   Pt passing dark/brown, cloudy  urine, u/o dropped to 10cc\\n   Action:\\n   Flushed foley\\n   Response:\\n   Minimal response after flushed, given fluid bolus. Cont dufflican\\n   Plan:\\n   Cont monitoring u/o. possible needs more foley flushed in setting of\\n   fungal mass in bladder, needs urine cx.\\n   K 3.4 start repletion with 40meq iv and mag 1.3 repleted with 2gr\\n   Bladder scan done shown 224 cc, given fluid bolus.\\n  "
      ]
     },
     "execution_count": 26,
     "metadata": {},
     "output_type": "execute_result"
    }
   ],
   "source": [
    "NoteEvents_Nursing.head(1)"
   ]
  },
  {
   "cell_type": "code",
   "execution_count": null,
   "metadata": {},
   "outputs": [],
   "source": [
    "def keep_first_last(df):\n",
    "    # Ensure CHARTDATE is in datetime format\n",
    "    df['CHARTDATE'] = pd.to_datetime(df['CHARTDATE'])\n",
    "\n",
    "    # Find the earliest CHARTDATE for each HADM_ID\n",
    "    min_chartdate_per_hadm = df.groupby('HADM_ID')['CHARTDATE'].min().reset_index()\n",
    "\n",
    "    # Merge with the original DataFrame to keep only rows where CHARTDATE matches the earliest CHARTDATE per HADM_ID\n",
    "    df_earliest = df.merge(min_chartdate_per_hadm, on=['HADM_ID', 'CHARTDATE'], how='inner')\n",
    "\n",
    "    # ---------------------------------------------------------------------------------------------------------------\n",
    "    # Ensure CHARTTIME is in datetime format\n",
    "    df_earliest['CHARTTIME'] = pd.to_datetime(df_earliest['CHARTTIME'])\n",
    "\n",
    "    # Sort by HADM_ID and CHARTTIME\n",
    "    df_earliest = df_earliest.sort_values(by=['HADM_ID', 'CHARTTIME'])\n",
    "\n",
    "    # Select first and last row per HADM_ID\n",
    "    df_first = df_earliest.groupby('HADM_ID').head(1)  # First row per HADM_ID\n",
    "    df_last = df_earliest.groupby('HADM_ID').tail(1)   # Last row per HADM_ID\n",
    "\n",
    "    # Combine both\n",
    "    df_final = pd.concat([df_first, df_last]).sort_values(by=['HADM_ID', 'CHARTTIME']).reset_index(drop=True)\n",
    "    # ---------------------------------------------------------------------------------------------------------------\n",
    "    # aggregating text into one row.\n",
    "    df_final = df_final.groupby('HADM_ID', as_index=False).agg({'SUBJECT_ID': 'first', 'TEXT': '\\n'.join})\n",
    "    # ---------------------------------------------------------------------------------------------------------------    \n",
    "    return df_final"
   ]
  },
  {
   "cell_type": "code",
   "execution_count": null,
   "metadata": {},
   "outputs": [],
   "source": [
    "NE_NursingOther = keep_first_last(NoteEvents_NursingOther)\n",
    "NE_Nursing      = keep_first_last(NoteEvents_Nursing)\n",
    "NE_Radiology    = keep_first_last(NoteEvents_Radiology)\n"
   ]
  },
  {
   "cell_type": "code",
   "execution_count": null,
   "metadata": {},
   "outputs": [],
   "source": [
    "NE_Nursing.head(2)"
   ]
  },
  {
   "cell_type": "code",
   "execution_count": null,
   "metadata": {},
   "outputs": [],
   "source": [
    "# NoteEvents_NursingOther_grouped.to_csv('../../Data/unstructured/text/NursingOther.csv')\n",
    "# NoteEvents_Nursing_grouped.to_csv('../../Data/unstructured/text/Nursing.csv')\n",
    "# NoteEvents_Radiology_grouped.to_csv('../../Data/unstructured/text/Radiology.csv')\n"
   ]
  },
  {
   "cell_type": "code",
   "execution_count": null,
   "metadata": {},
   "outputs": [],
   "source": [
    "NE_NursingOther.head(3)"
   ]
  },
  {
   "cell_type": "code",
   "execution_count": null,
   "metadata": {},
   "outputs": [],
   "source": [
    "# Sample DataFrames\n",
    "df_nursing       = NE_Nursing\n",
    "df_nursing_other = NE_NursingOther\n",
    "df_radiology     = NE_Radiology\n",
    "\n",
    "# Merge dataframes on HADM_ID with outer join to ensure all records are included\n",
    "merged_df = df_nursing.merge(df_nursing_other, on='HADM_ID', how='outer', suffixes=('_nursing', '_nursing_other')) \\\n",
    "                      .merge(df_radiology, on='HADM_ID', how='outer')\n",
    "\n",
    "# Rename columns for clarity\n",
    "merged_df.rename(columns={'TEXT_nursing': 'Nursing', 'TEXT_nursing_other': 'Nursing/Other', 'TEXT': 'Radiology'}, inplace=True)\n",
    "\n",
    "# Fill NaN values with empty strings\n",
    "merged_df.fillna('', inplace=True)\n",
    "\n",
    "# Combine text fields\n",
    "merged_df['Combined_Text'] = merged_df.apply(lambda row: \n",
    "    f\"Nursing:\\n{row['Nursing']}.\\nNursing/Other:\\n{row['Nursing/Other']}.\\nRadiology:\\n{row['Radiology']}\", axis=1)\n",
    "\n",
    "# Display the final result\n",
    "final_DF = merged_df[['HADM_ID', 'SUBJECT_ID', 'Combined_Text']]\n",
    "\n",
    "final_DF = final_DF.rename(columns={'Combined_Text': 'TEXT'})\n",
    "\n",
    "final_DF.to_csv('../../Data/unstructured/text/ALL_first_last.csv')"
   ]
  },
  {
   "cell_type": "code",
   "execution_count": null,
   "metadata": {},
   "outputs": [],
   "source": [
    "len(final_DF['SUBJECT_ID'].unique())"
   ]
  },
  {
   "cell_type": "code",
   "execution_count": null,
   "metadata": {},
   "outputs": [],
   "source": [
    "len(final_DF['HADM_ID'].unique())"
   ]
  },
  {
   "cell_type": "code",
   "execution_count": null,
   "metadata": {},
   "outputs": [],
   "source": [
    "final_DF.head(3)"
   ]
  }
 ],
 "metadata": {
  "kernelspec": {
   "display_name": "envGNN3",
   "language": "python",
   "name": "python3"
  },
  "language_info": {
   "codemirror_mode": {
    "name": "ipython",
    "version": 3
   },
   "file_extension": ".py",
   "mimetype": "text/x-python",
   "name": "python",
   "nbconvert_exporter": "python",
   "pygments_lexer": "ipython3",
   "version": "3.12.5"
  }
 },
 "nbformat": 4,
 "nbformat_minor": 2
}
