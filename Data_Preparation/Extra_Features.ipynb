{
 "cells": [
  {
   "cell_type": "code",
   "execution_count": 6,
   "metadata": {},
   "outputs": [
    {
     "name": "stdout",
     "output_type": "stream",
     "text": [
      "42142\n"
     ]
    },
    {
     "data": {
      "text/plain": [
       "(42142, 22839, 10802, 8501)"
      ]
     },
     "execution_count": 6,
     "metadata": {},
     "output_type": "execute_result"
    }
   ],
   "source": [
    "from datasets import load_from_disk\n",
    "saving_path = \"/lustre/home/almusawiaf/PhD_Projects/ICU_LoS/Data/XY_BoW/normalized/3_classes/BoW_sci_sm_2000_F\"\n",
    "# saving_path = '/lustre/home/almusawiaf/PhD_Projects/ICU_LoS/Data/XY_BoW/not_normalized/3_classes/BoW_sci_sm_2000_F'\n",
    "train_set = load_from_disk(f'{saving_path}/train_dataset_X')\n",
    "test_set = load_from_disk(f'{saving_path}/test_dataset_X')\n",
    "\n",
    "print(len(train_set)+ len(test_set))\n",
    "L = train_set['label'] + test_set['label']\n",
    "len(L), L.count(0), L.count(1), L.count(2)"
   ]
  },
  {
   "cell_type": "code",
   "execution_count": 8,
   "metadata": {},
   "outputs": [
    {
     "data": {
      "text/plain": [
       "Dataset({\n",
       "    features: ['label', 'HADM_ID', 'XM', 'XS', 'XB', 'XD', 'XL', 'XP', 'XF', 'XE'],\n",
       "    num_rows: 33713\n",
       "})"
      ]
     },
     "execution_count": 8,
     "metadata": {},
     "output_type": "execute_result"
    }
   ],
   "source": [
    "train_set"
   ]
  },
  {
   "cell_type": "code",
   "execution_count": 9,
   "metadata": {},
   "outputs": [
    {
     "name": "stdout",
     "output_type": "stream",
     "text": [
      "Total: 42142, Class 0: 22839, Class 1: 10802, Class 2: 8501\n"
     ]
    },
    {
     "name": "stderr",
     "output_type": "stream",
     "text": [
      "Saving the dataset (3/3 shards): 100%|██████████| 42142/42142 [00:09<00:00, 4660.99 examples/s]\n"
     ]
    }
   ],
   "source": [
    "from datasets import concatenate_datasets\n",
    "\n",
    "# Combine train and test sets\n",
    "full_dataset = concatenate_datasets([train_set, test_set])\n",
    "\n",
    "# Check combined dataset size and label distribution\n",
    "labels = full_dataset['label']\n",
    "print(f\"Total: {len(labels)}, Class 0: {labels.count(0)}, Class 1: {labels.count(1)}, Class 2: {labels.count(2)}\")\n",
    "\n",
    "\n",
    "full_dataset.save_to_disk(f'{saving_path}/full_dataset_X')\n"
   ]
  },
  {
   "cell_type": "code",
   "execution_count": 2,
   "metadata": {},
   "outputs": [
    {
     "name": "stdout",
     "output_type": "stream",
     "text": [
      "md_1000\n",
      "42142\n",
      "42142 22839 10802 8501\n",
      "\n",
      "md_2000\n",
      "42142\n",
      "42142 22839 10802 8501\n",
      "\n",
      "sm_1000\n",
      "42142\n",
      "42142 22839 10802 8501\n",
      "\n",
      "sm_2000\n",
      "42142\n",
      "42142 22839 10802 8501\n",
      "\n",
      "sm_2000_F\n",
      "42142\n",
      "42142 22839 10802 8501\n",
      "\n"
     ]
    }
   ],
   "source": [
    "for t in ['md_1000', 'md_2000', 'sm_1000', 'sm_2000', 'sm_2000_F']:\n",
    "    saving_path = f'/lustre/home/almusawiaf/PhD_Projects/ICU_LoS/Data/XY_BoW/not_normalized/3_classes/BoW_sci_{t}'\n",
    "    train_set = load_from_disk(f'{saving_path}/train_dataset_X')\n",
    "    test_set = load_from_disk(f'{saving_path}/test_dataset_X')\n",
    "    print(t)\n",
    "    print(len(train_set)+ len(test_set))\n",
    "    L = train_set['label'] + test_set['label']\n",
    "    print(len(L), L.count(0), L.count(1), L.count(2))\n",
    "    print()"
   ]
  },
  {
   "cell_type": "code",
   "execution_count": 3,
   "metadata": {},
   "outputs": [
    {
     "name": "stdout",
     "output_type": "stream",
     "text": [
      "38069\n"
     ]
    },
    {
     "data": {
      "text/plain": [
       "(38069, 21330, 9568, 7171)"
      ]
     },
     "execution_count": 3,
     "metadata": {},
     "output_type": "execute_result"
    }
   ],
   "source": [
    "saving_path = \"/lustre/home/almusawiaf/PhD_Projects/ICU_LoS/Data/XY_BoW/normalized/3_classes/BoW_sci_sm_2000_F_3_7_days\"\n",
    "train_set = load_from_disk(f'{saving_path}/train_dataset_X')\n",
    "test_set = load_from_disk(f'{saving_path}/test_dataset_X')\n",
    "\n",
    "print(len(train_set)+ len(test_set))\n",
    "L = train_set['label'] + test_set['label']\n",
    "len(L), L.count(0), L.count(1), L.count(2)"
   ]
  },
  {
   "cell_type": "code",
   "execution_count": 4,
   "metadata": {},
   "outputs": [
    {
     "name": "stdout",
     "output_type": "stream",
     "text": [
      "38069\n"
     ]
    },
    {
     "data": {
      "text/plain": [
       "(38069, 28031, 2867, 7171)"
      ]
     },
     "execution_count": 4,
     "metadata": {},
     "output_type": "execute_result"
    }
   ],
   "source": [
    "saving_path = \"/lustre/home/almusawiaf/PhD_Projects/ICU_LoS/Data/XY_BoW/normalized/3_classes/BoW_sci_sm_2000_F_5_7_days\"\n",
    "train_set = load_from_disk(f'{saving_path}/train_dataset_X')\n",
    "test_set = load_from_disk(f'{saving_path}/test_dataset_X')\n",
    "\n",
    "print(len(train_set)+ len(test_set))\n",
    "L = train_set['label'] + test_set['label']\n",
    "len(L), L.count(0), L.count(1), L.count(2)"
   ]
  },
  {
   "cell_type": "code",
   "execution_count": 5,
   "metadata": {},
   "outputs": [
    {
     "name": "stdout",
     "output_type": "stream",
     "text": [
      "38069\n"
     ]
    },
    {
     "data": {
      "text/plain": [
       "(38069, 21330, 6701, 10038)"
      ]
     },
     "execution_count": 5,
     "metadata": {},
     "output_type": "execute_result"
    }
   ],
   "source": [
    "saving_path = \"/lustre/home/almusawiaf/PhD_Projects/ICU_LoS/Data/XY_BoW/normalized/3_classes/BoW_sci_sm_2000_F_3_5_days\"\n",
    "train_set = load_from_disk(f'{saving_path}/train_dataset_X')\n",
    "test_set = load_from_disk(f'{saving_path}/test_dataset_X')\n",
    "\n",
    "print(len(train_set)+ len(test_set))\n",
    "L = train_set['label'] + test_set['label']\n",
    "len(L), L.count(0), L.count(1), L.count(2)"
   ]
  }
 ],
 "metadata": {
  "kernelspec": {
   "display_name": "envGNN3",
   "language": "python",
   "name": "python3"
  },
  "language_info": {
   "codemirror_mode": {
    "name": "ipython",
    "version": 3
   },
   "file_extension": ".py",
   "mimetype": "text/x-python",
   "name": "python",
   "nbconvert_exporter": "python",
   "pygments_lexer": "ipython3",
   "version": "3.11.11"
  }
 },
 "nbformat": 4,
 "nbformat_minor": 2
}
