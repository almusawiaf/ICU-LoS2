{
 "cells": [
  {
   "cell_type": "code",
   "execution_count": 2,
   "metadata": {},
   "outputs": [
    {
     "name": "stderr",
     "output_type": "stream",
     "text": [
      "[nltk_data] Downloading package stopwords to\n",
      "[nltk_data]     /lustre/home/almusawiaf/nltk_data...\n",
      "[nltk_data]   Package stopwords is already up-to-date!\n",
      "[nltk_data] Downloading package wordnet to\n",
      "[nltk_data]     /lustre/home/almusawiaf/nltk_data...\n",
      "[nltk_data]   Package wordnet is already up-to-date!\n",
      "/lustre/home/almusawiaf/anaconda3/envs/envBoW3/lib/python3.10/site-packages/spacy/util.py:910: UserWarning: [W095] Model 'en_core_sci_sm' (0.5.1) was trained with spaCy v3.4.1 and may not be 100% compatible with the current version (3.7.5). If you see errors or degraded performance, download a newer compatible model or retrain your custom model with the current spaCy version. For more details and available updates, run: python -m spacy validate\n",
      "  warnings.warn(warn_msg)\n"
     ]
    }
   ],
   "source": [
    "import pandas as pd\n",
    "import numpy as np\n",
    "from sklearn.feature_extraction.text import TfidfVectorizer\n",
    "import spacy\n",
    "import re\n",
    "from joblib import Parallel, delayed\n",
    "from nltk.corpus import stopwords\n",
    "from nltk.stem import WordNetLemmatizer\n",
    "\n",
    "import nltk\n",
    "nltk.download('stopwords')\n",
    "nltk.download('wordnet')\n",
    "\n",
    "nlp = spacy.load(\"en_core_sci_sm\")\n",
    "lemmatizer = WordNetLemmatizer()\n",
    "stop_words = set(stopwords.words('english'))\n",
    "\n",
    "def preprocess_text(text):\n",
    "    text = str(text).lower()\n",
    "    text = ''.join([char for char in text if not char.isdigit()])  # Remove all digits\n",
    "    text = re.sub(r'[^a-z\\s]', '', text)  # Remove punctuation\n",
    "    text = text.strip()\n",
    "    tokens = nlp(text)\n",
    "    tokens = [token.lemma_ for token in tokens if token.text not in stop_words]\n",
    "    return \" \".join(tokens)\n",
    "\n",
    "def parallel_preprocessing(texts, n_jobs=8):\n",
    "    docs = list(nlp.pipe(texts, n_process=n_jobs))\n",
    "    return [\" \".join([token.lemma_ for token in doc]) for doc in docs]\n",
    "\n",
    "def create_bow(df, vectorizer):\n",
    "    X_bow = vectorizer.fit_transform(df[\"CLEAN_TEXT\"])\n",
    "    bow_df = pd.DataFrame(X_bow.toarray(), columns=vectorizer.get_feature_names_out())\n",
    "    bow_df.insert(0, \"HADM_ID\", df[\"HADM_ID\"])\n",
    "    return bow_df\n",
    "\n",
    "source_path = '../../../Data/unstructured'\n",
    "# df = pd.read_csv(f'{source_path}/summarized/ALL_first_last_SUMMARY_ONLY/1_t5_small2.csv').head(10)\n",
    "df = pd.read_csv(f'{source_path}/text/ALL_first_last.csv')\n",
    "\n",
    "\n",
    "df[\"TEXT\"] = df[\"TEXT\"].apply(lambda x: ''.join([char for char in str(x).lower() if not char.isdigit()]))\n",
    "df[\"CLEAN_TEXT\"] = parallel_preprocessing(df[\"TEXT\"].tolist(), n_jobs=8)\n",
    "\n",
    "vectorizer = TfidfVectorizer(max_features=1000)\n",
    "bow_df = create_bow(df, vectorizer)\n",
    "\n",
    "bow_df.to_csv(f'{source_path}/emb/BoW/ALL_first_last_sci_sm_2000.csv', index=False)\n",
    "\n",
    "print('Mission accomplished!')\n"
   ]
  }
 ],
 "metadata": {
  "kernelspec": {
   "display_name": "envBoW3",
   "language": "python",
   "name": "python3"
  },
  "language_info": {
   "codemirror_mode": {
    "name": "ipython",
    "version": 3
   },
   "file_extension": ".py",
   "mimetype": "text/x-python",
   "name": "python",
   "nbconvert_exporter": "python",
   "pygments_lexer": "ipython3",
   "version": "3.10.16"
  }
 },
 "nbformat": 4,
 "nbformat_minor": 2
}
