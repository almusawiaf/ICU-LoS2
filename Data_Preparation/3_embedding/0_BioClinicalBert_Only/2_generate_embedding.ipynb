{
 "cells": [
  {
   "cell_type": "code",
   "execution_count": 1,
   "metadata": {},
   "outputs": [
    {
     "name": "stderr",
     "output_type": "stream",
     "text": [
      "/lustre/home/almusawiaf/anaconda3/envs/envMeSH/lib/python3.12/site-packages/tqdm/auto.py:21: TqdmWarning: IProgress not found. Please update jupyter and ipywidgets. See https://ipywidgets.readthedocs.io/en/stable/user_install.html\n",
      "  from .autonotebook import tqdm as notebook_tqdm\n"
     ]
    }
   ],
   "source": [
    "import pandas as pd\n",
    "import torch\n",
    "from transformers import AutoTokenizer, AutoModel\n",
    "from tqdm import tqdm\n",
    "\n",
    "def generate_embedding(text):\n",
    "    \"\"\"\n",
    "    Generate embedding for a given text using BioClinicalBERT.\n",
    "    \"\"\"\n",
    "    if pd.isna(text) or not isinstance(text, str):\n",
    "        return None\n",
    "    inputs = tokenizer(text, return_tensors=\"pt\", padding=True, truncation=True, max_length=512).to(device)\n",
    "    with torch.no_grad():\n",
    "        outputs = model(**inputs)\n",
    "        cls_embedding = outputs.last_hidden_state[:, 0, :].squeeze().cpu().tolist()\n",
    "    return cls_embedding"
   ]
  },
  {
   "cell_type": "code",
   "execution_count": 2,
   "metadata": {},
   "outputs": [
    {
     "name": "stdout",
     "output_type": "stream",
     "text": [
      "Loading BioClinicalBERT...\n",
      "Model loaded.\n",
      "Loading input data...\n",
      "Input data loaded. Total rows: 59652\n",
      "   ROW_ID  SUBJECT_ID   HADM_ID  \\\n",
      "0     174       22532  167853.0   \n",
      "1     175       13702  107527.0   \n",
      "2     176       13702  167118.0   \n",
      "3     177       13702  196489.0   \n",
      "4     178       26880  135453.0   \n",
      "\n",
      "                                             SUMMARY  \n",
      "0  radiologic studies also included a chest CT, w...  \n",
      "1  this is an 81-year-old female with a history o...  \n",
      "2  this 81 year old woman has a history of COPD ....  \n",
      "3  EMS found patient tachypnic at saturating 90% ...  \n",
      "4  Mr. [**Known lastname 1829**] was seen at [**H...  \n"
     ]
    }
   ],
   "source": [
    "if __name__ == \"__main__\":\n",
    "    # File paths\n",
    "    # input_file = 'data/Social_History_extraction_full_v1.csv'\n",
    "    # output_file = 'data/social_history_embeddings_output.csv'\n",
    "    # text_column = 'SOCIAL_HISTORY'\n",
    "\n",
    "    input_file  = '../../data/text/summary_NOTEEVENTS_60_150_2.csv'\n",
    "    output_file = '../../data/emb/summary_NOTEEVENTS_60_150_2.csv'\n",
    "    text_column = 'SUMMARY'\n",
    "\n",
    "    # Load BioClinicalBERT model\n",
    "    print(\"Loading BioClinicalBERT...\")\n",
    "    tokenizer = AutoTokenizer.from_pretrained(\"emilyalsentzer/Bio_ClinicalBERT\")\n",
    "    model = AutoModel.from_pretrained(\"emilyalsentzer/Bio_ClinicalBERT\")\n",
    "    device = torch.device(\"cuda\" if torch.cuda.is_available() else \"cpu\")\n",
    "    model.to(device)\n",
    "    print(\"Model loaded.\")\n",
    "\n",
    "    # Load input data\n",
    "    print(\"Loading input data...\")\n",
    "    data = pd.read_csv(input_file)\n",
    "    print(f\"Input data loaded. Total rows: {len(data)}\")\n",
    "    print(data.head(5))\n",
    "\n",
    "    # print(\"Ensuring consistent data types for the text column...\")\n",
    "    # data[text_column] = data[text_column].fillna(\"\").astype(str)\n",
    "\n",
    "    # # Generate embeddings\n",
    "    # print(\"Generating embeddings...\")\n",
    "    # embeddings = []\n",
    "    # for index, row in tqdm(data.iterrows(), total=len(data), desc=\"Generating Embeddings\"):\n",
    "    #     embeddings.append(generate_embedding(row[text_column]))\n",
    "\n",
    "    # # Save embeddings\n",
    "    # print(\"Saving embeddings to output file...\")\n",
    "    # data['EMBEDDINGS'] = embeddings\n",
    "    # data.to_csv(output_file, index=False)\n",
    "    # print(f\"Embeddings saved to {output_file}\")\n"
   ]
  }
 ],
 "metadata": {
  "kernelspec": {
   "display_name": "envMeSH",
   "language": "python",
   "name": "python3"
  },
  "language_info": {
   "codemirror_mode": {
    "name": "ipython",
    "version": 3
   },
   "file_extension": ".py",
   "mimetype": "text/x-python",
   "name": "python",
   "nbconvert_exporter": "python",
   "pygments_lexer": "ipython3",
   "version": "3.12.5"
  }
 },
 "nbformat": 4,
 "nbformat_minor": 2
}
