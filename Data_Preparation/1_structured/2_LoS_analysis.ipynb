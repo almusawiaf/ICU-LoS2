{
 "cells": [
  {
   "cell_type": "code",
   "execution_count": 5,
   "metadata": {},
   "outputs": [
    {
     "name": "stdout",
     "output_type": "stream",
     "text": [
      "Loading the data ...\n",
      "|---- Loading completed..\n",
      "(44038, 3) 42142\n"
     ]
    }
   ],
   "source": [
    "import pandas as pd\n",
    "import pickle\n",
    "def load_pickle(thePath):\n",
    "    with open(thePath, 'rb') as f:\n",
    "        data = pickle.load(f)\n",
    "    return data\n",
    "\n",
    "def data_loader():\n",
    "    print('Loading the data ...')\n",
    "    df = pd.read_csv(f'../../Data/unstructured/summarized/merged_summaries.csv')\n",
    "    VIY = load_pickle(f'../../Data/structured/ALL/VIY.pkl')\n",
    "    print('|---- Loading completed..')\n",
    "    return VIY, df\n",
    "\n",
    "VIY, df = data_loader()\n",
    "print(VIY.shape, len(df))"
   ]
  },
  {
   "cell_type": "code",
   "execution_count": null,
   "metadata": {},
   "outputs": [],
   "source": [
    "import numpy as np\n",
    "import pandas as pd\n",
    "import matplotlib.pyplot as plt\n",
    "import seaborn as sns\n",
    "from scipy.stats import skew, mode\n",
    "\n",
    "np.random.seed(42)\n",
    "icu_stays = VIY[:,2]\n",
    "\n",
    "# Convert to a Pandas Series\n",
    "df = pd.Series(icu_stays, name='ICU Length of Stay')\n",
    "\n",
    "# Histogram\n",
    "plt.figure(figsize=(10, 5))\n",
    "sns.histplot(df, bins=30, kde=True)\n",
    "plt.xlabel(\"Length of Stay (Days)\")\n",
    "plt.ylabel(\"Frequency\")\n",
    "plt.title(\"Histogram of ICU Length of Stay\")\n",
    "plt.show()\n",
    "\n",
    "# Box Plot\n",
    "plt.figure(figsize=(8, 5))\n",
    "sns.boxplot(x=df)\n",
    "plt.xlabel(\"Length of Stay (Days)\")\n",
    "plt.title(\"Box Plot of ICU Length of Stay\")\n",
    "plt.show()\n",
    "\n",
    "# Summary Statistics\n",
    "mean_value = df.mean()\n",
    "median_value = df.median()\n",
    "mode_value = mode(df)[0][0]\n",
    "std_dev = df.std()\n",
    "range_value = df.max() - df.min()\n",
    "skewness = skew(df)\n",
    "\n",
    "summary = {\n",
    "    \"Mean\": mean_value,\n",
    "    \"Median\": median_value,\n",
    "    \"Mode\": mode_value,\n",
    "    \"Standard Deviation\": std_dev,\n",
    "    \"Range\": range_value,\n",
    "    \"Skewness\": skewness\n",
    "}\n",
    "\n",
    "# Display Summary Statistics\n",
    "for key, value in summary.items():\n",
    "    print(f\"{key}: {value:.2f}\")\n"
   ]
  }
 ],
 "metadata": {
  "kernelspec": {
   "display_name": "envMeSH",
   "language": "python",
   "name": "python3"
  },
  "language_info": {
   "codemirror_mode": {
    "name": "ipython",
    "version": 3
   },
   "file_extension": ".py",
   "mimetype": "text/x-python",
   "name": "python",
   "nbconvert_exporter": "python",
   "pygments_lexer": "ipython3",
   "version": "3.11.5"
  }
 },
 "nbformat": 4,
 "nbformat_minor": 2
}
